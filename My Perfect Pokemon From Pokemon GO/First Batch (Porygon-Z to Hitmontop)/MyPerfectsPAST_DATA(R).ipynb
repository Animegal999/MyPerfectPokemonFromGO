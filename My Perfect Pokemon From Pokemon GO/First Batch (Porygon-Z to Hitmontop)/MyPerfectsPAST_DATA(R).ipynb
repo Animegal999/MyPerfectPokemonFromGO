{
  "nbformat": 4,
  "nbformat_minor": 0,
  "metadata": {
    "colab": {
      "provenance": []
    },
    "kernelspec": {
      "name": "ir",
      "display_name": "R"
    },
    "language_info": {
      "name": "R"
    }
  },
  "cells": [
    {
      "cell_type": "code",
      "execution_count": 1,
      "metadata": {
        "colab": {
          "base_uri": "https://localhost:8080/"
        },
        "id": "bh5k9b8vANOA",
        "outputId": "be63688f-e8b3-4cb4-b891-79fddde9b37a"
      },
      "outputs": [
        {
          "output_type": "stream",
          "name": "stderr",
          "text": [
            "Installing package into ‘/usr/local/lib/R/site-library’\n",
            "(as ‘lib’ is unspecified)\n",
            "\n",
            "Installing package into ‘/usr/local/lib/R/site-library’\n",
            "(as ‘lib’ is unspecified)\n",
            "\n",
            "Installing package into ‘/usr/local/lib/R/site-library’\n",
            "(as ‘lib’ is unspecified)\n",
            "\n",
            "also installing the dependencies ‘zoo’, ‘xts’, ‘PKI’, ‘packrat’, ‘renv’, ‘V8’, ‘dygraphs’, ‘rsconnect’, ‘katex’, ‘cleanrmd’\n",
            "\n",
            "\n",
            "Installing package into ‘/usr/local/lib/R/site-library’\n",
            "(as ‘lib’ is unspecified)\n",
            "\n",
            "also installing the dependencies ‘lazyeval’, ‘crosstalk’\n",
            "\n",
            "\n",
            "Installing package into ‘/usr/local/lib/R/site-library’\n",
            "(as ‘lib’ is unspecified)\n",
            "\n",
            "also installing the dependencies ‘TH.data’, ‘libcoin’, ‘matrixStats’, ‘multcomp’, ‘mvtnorm’, ‘modeltools’, ‘strucchange’, ‘coin’, ‘sandwich’\n",
            "\n",
            "\n",
            "Installing package into ‘/usr/local/lib/R/site-library’\n",
            "(as ‘lib’ is unspecified)\n",
            "\n",
            "\n",
            "Attaching package: ‘plotly’\n",
            "\n",
            "\n",
            "The following object is masked from ‘package:ggplot2’:\n",
            "\n",
            "    last_plot\n",
            "\n",
            "\n",
            "The following object is masked from ‘package:stats’:\n",
            "\n",
            "    filter\n",
            "\n",
            "\n",
            "The following object is masked from ‘package:graphics’:\n",
            "\n",
            "    layout\n",
            "\n",
            "\n",
            "Loading required package: grid\n",
            "\n",
            "Loading required package: mvtnorm\n",
            "\n",
            "Loading required package: modeltools\n",
            "\n",
            "Loading required package: stats4\n",
            "\n",
            "Loading required package: strucchange\n",
            "\n",
            "Loading required package: zoo\n",
            "\n",
            "\n",
            "Attaching package: ‘zoo’\n",
            "\n",
            "\n",
            "The following objects are masked from ‘package:base’:\n",
            "\n",
            "    as.Date, as.Date.numeric\n",
            "\n",
            "\n",
            "Loading required package: sandwich\n",
            "\n"
          ]
        }
      ],
      "source": [
        "install.packages(\"ggplot2\")\n",
        "install.packages(\"tinytex\")\n",
        "install.packages(\"rmarkdown\", dep = TRUE)\n",
        "install.packages(\"plotly\")\n",
        "install.packages(\"DescTools\")\n",
        "install.packages(\"dplyr\")\n",
        "\n",
        "library(ggplot2)\n",
        "library(tinytex)\n",
        "library(rmarkdown)\n",
        "library(plotly)\n",
        "library(DescTools)\n",
        "library(dplyr)"
      ]
    },
    {
      "cell_type": "code",
      "source": [
        "PerfectPokemon <- read.csv(\"My_Perfects_PAST.csv\", header = TRUE, sep = \",\")\n",
        "View(PerfectPokemon)"
      ],
      "metadata": {
        "colab": {
          "base_uri": "https://localhost:8080/",
          "height": 1000
        },
        "id": "P3ChY4qJAmv9",
        "outputId": "a9e76ec1-7a42-49de-81be-e235d00fa94a"
      },
      "execution_count": 3,
      "outputs": [
        {
          "output_type": "display_data",
          "data": {
            "text/plain": [
              "    Pokemon.Species Nickname     Type             From.Egg. From.Raid.\n",
              "1   Porygon-Z       Mecha-Quack  Normal           No        No        \n",
              "2   Bellossom       Luau         Grass            No        No        \n",
              "3   Gallade         Link         Psychic/Fighting No        Yes       \n",
              "4   Mewtwo          Frieza       Psychic          No        No        \n",
              "5   Scizor          Exact-O      Bug/Steel        Yes       No        \n",
              "6   Lapras          Nessie       Water/Ice        No        No        \n",
              "7   Magnezone       Tesla        Electric/Steel   No        No        \n",
              "8   Unown-A         Awesome      Psychic          No        Yes       \n",
              "9   Perrserker      FuzzyBoi     Steel            Yes       No        \n",
              "10  Stantler        Comet        Normal           No        No        \n",
              "11  Magnezone       Edison       Electric/Steel   No        No        \n",
              "12  Walrein         MahStache    Ice/Water        No        No        \n",
              "13  Cloyster        Shelly       Water/Ice        No        No        \n",
              "14  Electrode       Ballin'      Electric         No        No        \n",
              "15  Braviary        Cpt. America Normal/Flying    Yes       No        \n",
              "16  Electrode       PokeBall     Electric         No        No        \n",
              "17  Jumpluff        Q-Tip        Grass/Flying     No        No        \n",
              "18  Pyroar          Nala         Fire/Normal      Yes       No        \n",
              "19  Cradily         Invincibruh  Rock/Grass       No        No        \n",
              "20  Castform-Rain   Stormy       Water            No        No        \n",
              "21  Castform-Cloudy Claudia      Normal           No        No        \n",
              "22  Dragonite       Diabeetus    Dragon/Flying    No        No        \n",
              "23  Talonflame      Lucy         Fire/Flying      Yes       No        \n",
              "24  Granbull        Gracie       Fairy            No        No        \n",
              "25  Mawile          Two Face     Steel/Fairy      No        No        \n",
              "26  Crobat          Dracula      Poison/Flying    No        No        \n",
              "27  Mightyena       Sadie        Dark             No        No        \n",
              "28  Jolteon         Sparky       Electric         No        No        \n",
              "29  Exeggutor       Eggcellent   Grass/Psychic    No        No        \n",
              "30  Tyranitar       Godzilla     Rock/Dark        No        No        \n",
              "⋮   ⋮               ⋮            ⋮                ⋮         ⋮         \n",
              "71  Beedrill        Barry        Bug/Poison       No        No        \n",
              "72  Hippowdon       Gloria       Ground           No        No        \n",
              "73  Machamp         Heracles     Fighting         No        No        \n",
              "74  Annihilape      PMS          Fighting         No        No        \n",
              "75  Walrein         AAAAAAAA     Ice/Water        No        No        \n",
              "76  Glaceon         Lorelei      Ice              No        No        \n",
              "77  Dewgong         Flipper      Water/Ice        No        No        \n",
              "78  Camerupt        Bob          Fire/Ground      No        No        \n",
              "79  Watchog         Filbert      Normal           No        No        \n",
              "80  Machamp         HulkHogan    Fighting         No        No        \n",
              "81  Magnezone       Volta        Electric/Steel   No        No        \n",
              "82  Heliolisk       Annette      Electric/Normal  No        No        \n",
              "83  Snorlax         Nikocado     Normal           No        No        \n",
              "84  Skuntank        Jupiter      Poison/Dark      No        No        \n",
              "85  Victreebel      Fleshlight   Grass/Poison     No        No        \n",
              "86  Hitmonlee       Bruce Lee    Fighting         No        No        \n",
              "87  Nidoking        Big Daddy    Poison/Ground    No        No        \n",
              "88  Leavanny        MEEP         Bug/Grass        No        No        \n",
              "89  Golurk          Armos        Ground/Ghost     No        No        \n",
              "90  Spinda          Spot         Normal           No        No        \n",
              "91  Reuniclus       Blobbie      Psychic          No        Yes       \n",
              "92  Jynx            Frostitute   Ice/Psychic      No        No        \n",
              "93  Hitmonchan      JackieChan   Fighting         No        No        \n",
              "94  Ampharos        Amphy        Electric         No        No        \n",
              "95  Metagross       Optimus P.   Steel/Psychic    No        No        \n",
              "96  Exploud         Maxell       Normal           No        No        \n",
              "97  Blaziken        The Colonel  Fire/Fighting    No        No        \n",
              "98  Sableye         Jasper       Dark/Ghost       No        No        \n",
              "99  Sudowoodo       Roxanne      Rock             No        No        \n",
              "100 Hitmontop       TopOfDaWorld Fighting         No        No        \n",
              "    Random.Research.Task. From.Rocket.Leader.Grunt..Is.Purified..\n",
              "1   No                    Yes                                    \n",
              "2   No                    Yes                                    \n",
              "3   No                    No                                     \n",
              "4   No                    Yes                                    \n",
              "5   No                    No                                     \n",
              "6   No                    Yes - Sierra                           \n",
              "7   No                    Yes                                    \n",
              "8   No                    No                                     \n",
              "9   No                    No                                     \n",
              "10  Yes                   No                                     \n",
              "11  No                    Yes                                    \n",
              "12  No                    Yes                                    \n",
              "13  Yes                   No                                     \n",
              "14  Yes                   No                                     \n",
              "15  No                    No                                     \n",
              "16  Yes                   No                                     \n",
              "17  Yes                   No                                     \n",
              "18  No                    No                                     \n",
              "19  No                    Yes                                    \n",
              "20  Yes                   No                                     \n",
              "21  Yes                   No                                     \n",
              "22  Yes                   No                                     \n",
              "23  No                    No                                     \n",
              "24  Yes                   No                                     \n",
              "25  Yes                   No                                     \n",
              "26  No                    Yes                                    \n",
              "27  No                    Yes                                    \n",
              "28  Yes                   No                                     \n",
              "29  No                    Yes                                    \n",
              "30  Yes                   No                                     \n",
              "⋮   ⋮                     ⋮                                      \n",
              "71  No                    Yes                                    \n",
              "72  No                    Yes                                    \n",
              "73  Yes                   No                                     \n",
              "74  Yes                   No                                     \n",
              "75  Yes                   No                                     \n",
              "76  Yes                   No                                     \n",
              "77  Yes                   No                                     \n",
              "78  No                    Yes                                    \n",
              "79  No                    Yes                                    \n",
              "80  No                    Yes - Cliff                            \n",
              "81  Yes                   No                                     \n",
              "82  Yes                   No                                     \n",
              "83  Yes                   No                                     \n",
              "84  No                    Yes                                    \n",
              "85  No                    Yes                                    \n",
              "86  No                    Yes                                    \n",
              "87  No                    Yes - Arlo                             \n",
              "88  Yes                   No                                     \n",
              "89  No                    Yes                                    \n",
              "90  Yes                   No                                     \n",
              "91  No                    No                                     \n",
              "92  Yes                   No                                     \n",
              "93  No                    Yes                                    \n",
              "94  No                    Yes                                    \n",
              "95  No                    Yes - Sierra                           \n",
              "96  Yes                   No                                     \n",
              "97  Yes                   No                                     \n",
              "98  Yes                   No                                     \n",
              "99  Yes                   No                                     \n",
              "100 No                    Yes                                    \n",
              "    From.Event.                       Is.Shiny. Height..m. Weight..kg.\n",
              "1   No                                No        0.73        15.95     \n",
              "2   No                                No        0.35         5.42     \n",
              "3   No                                No        1.34        25.63     \n",
              "4   Yes - GO Fest 2020                No        1.99        78.47     \n",
              "5   No                                No        2.09       156.91     \n",
              "6   Yes - Sierra                      No        2.56       207.32     \n",
              "7   No                                No        1.38       247.32     \n",
              "8   Yes - ULTRA Unlock 2020           No        0.52         5.23     \n",
              "9   No                                No        0.85        27.67     \n",
              "10  Yes - Christmas 2020              No        1.43        85.01     \n",
              "11  No                                No        1.26       238.36     \n",
              "12  No                                No        1.30       137.50     \n",
              "13  No                                No        1.78       186.53     \n",
              "14  No                                No        1.11        59.57     \n",
              "15  No                                No        1.68        55.16     \n",
              "16  No                                No        1.30        67.28     \n",
              "17  No                                No        0.66         2.12     \n",
              "18  No                                No        1.52        80.78     \n",
              "19  No                                No        1.42        40.35     \n",
              "20  No                                No        0.26         0.61     \n",
              "21  No                                No        0.30         1.00     \n",
              "22  No                                No        2.09       173.00     \n",
              "23  No                                No        1.20        22.95     \n",
              "24  No                                No        1.39        34.37     \n",
              "25  No                                No        0.54         9.75     \n",
              "26  No                                No        1.56        56.39     \n",
              "27  No                                No        0.99        29.66     \n",
              "28  No                                No        0.86        24.93     \n",
              "29  No                                No        2.34       182.79     \n",
              "30  Yes - A Seven Colored Shadow      No        1.81       166.76     \n",
              "⋮   ⋮                                 ⋮         ⋮          ⋮          \n",
              "71  No                                No        0.84        17.21     \n",
              "72  No                                No        1.50       172.78     \n",
              "73  No                                No        1.93       172.07     \n",
              "74  No                                No        1.47        76.84     \n",
              "75  Yes - December Community Day 2022 No        1.40       105.97     \n",
              "76  Yes - Holiday 2022                No        0.71        14.39     \n",
              "77  No                                No        1.56       114.80     \n",
              "78  No                                No        2.05       234.20     \n",
              "79  No                                No        0.89        18.06     \n",
              "80  Yes - Cliff                       No        1.43        95.32     \n",
              "81  Yes - Crackling Voltage           No        1.01       121.87     \n",
              "82  Yes - Crackling Voltage           No        1.06        22.60     \n",
              "83  No                                No        2.20       532.67     \n",
              "84  No                                No        1.21        53.15     \n",
              "85  Yes - Decoy Grunt                 No        2.12        22.80     \n",
              "86  No                                No        1.49        44.84     \n",
              "87  Yes - Arlo                        No        1.54        84.52     \n",
              "88  No                                No        1.25        23.08     \n",
              "89  Yes - Team Rocket Takeover        No        3.39       427.39     \n",
              "90  Yes - Heart-Shaped Spot Pattern   No        1.29         6.68     \n",
              "91  No                                No        0.89        14.48     \n",
              "92  No                                No        1.46        41.74     \n",
              "93  No                                No        1.60        65.81     \n",
              "94  No                                No        1.66        78.09     \n",
              "95  Yes - Sierra                      No        1.01       239.49     \n",
              "96  Yes - Primal Rumblings            No        1.40        92.46     \n",
              "97  Yes - Primal Rumblings            No        1.69        39.61     \n",
              "98  Yes - Hoenn Tour 2022             No        0.47         8.83     \n",
              "99  No                                No        0.95        10.86     \n",
              "100 Yes - 100th Perfect               No        1.23        24.41     \n",
              "    Generation Date.Found Location       \n",
              "1   4          11/25/2019 Auburn, WA     \n",
              "2   2          11/26/2019 Auburn, WA     \n",
              "3   4          7/16/2020  Auburn, WA     \n",
              "4   1          7/26/2020  Auburn, WA     \n",
              "5   2          7/28/2020  Auburn, WA     \n",
              "6   1          8/5/2020   Auburn, WA     \n",
              "7   4          8/6/2020   Auburn, WA     \n",
              "8   2          8/12/2020  Auburn, WA     \n",
              "9   8          8/25/2020  Auburn, WA     \n",
              "10  2          12/31/2020 Auburn, WA     \n",
              "11  4          1/10/2021  Auburn, WA     \n",
              "12  3          2/5/2021   Auburn, WA     \n",
              "13  1          2/25/2021  Auburn, WA     \n",
              "14  1          3/1/2021   Auburn, WA     \n",
              "15  5          3/4/2021   Bonney Lake, WA\n",
              "16  1          3/18/2021  Issaquah, WA   \n",
              "17  2          3/19/2021  Federal Way, WA\n",
              "18  6          3/24/2021  Auburn, WA     \n",
              "19  3          3/24/2021  Covington, WA  \n",
              "20  3          3/27/2021  Auburn, WA     \n",
              "21  3          3/27/2021  Auburn, WA     \n",
              "22  1          4/2/2021   Auburn, WA     \n",
              "23  6          4/8/2021   Auburn, WA     \n",
              "24  2          5/9/2021   Auburn, WA     \n",
              "25  3          5/10/2021  Auburn, WA     \n",
              "26  2          5/19/2021  Auburn, WA     \n",
              "27  3          5/23/2021  Auburn, WA     \n",
              "28  1          5/28/2021  Auburn, WA     \n",
              "29  1          6/4/2021   Auburn, WA     \n",
              "30  2          6/21/2021  Auburn, WA     \n",
              "⋮   ⋮          ⋮          ⋮              \n",
              "71  1          12/10/2022 Kent, WA       \n",
              "72  4          12/10/2022 Kent, WA       \n",
              "73  1          12/10/2022 Auburn, WA     \n",
              "74  9          12/11/2022 Kent, WA       \n",
              "75  3          12/18/2022 Auburn, WA     \n",
              "76  4          12/24/2022 Kent, WA       \n",
              "77  1          12/31/2022 Kent, WA       \n",
              "78  3          1/3/2023   Auburn, WA     \n",
              "79  5          1/11/2023  Auburn, WA     \n",
              "80  1          1/19/2023  Auburn, WA     \n",
              "81  4          1/27/2023  Auburn, WA     \n",
              "82  6          1/28/2023  Renton, WA     \n",
              "83  1          2/1/2023   Federal Way, WA\n",
              "84  4          2/2/2023   Kent, WA       \n",
              "85  1          2/2/2023   Kent, WA       \n",
              "86  1          2/5/2023   Kent, WA       \n",
              "87  1          2/7/2023   Auburn, WA     \n",
              "88  5          2/9/2023   Auburn, WA     \n",
              "89  5          2/11/2023  Kent, WA       \n",
              "90  3          2/12/2023  Auburn, WA     \n",
              "91  5          2/16/2023  Auburn, WA     \n",
              "92  1          2/16/2023  Kent, WA       \n",
              "93  1          2/18/2023  Kent, WA       \n",
              "94  2          2/18/2023  Tukwila, WA    \n",
              "95  3          2/18/2023  SeaTac, WA     \n",
              "96  3          2/24/2023  Kent, WA       \n",
              "97  3          2/24/2023  Auburn, WA     \n",
              "98  3          2/25/2023  Seattle, WA    \n",
              "99  2          3/4/2023   Auburn, WA     \n",
              "100 2          3/5/2023   Kent, WA       "
            ],
            "text/html": [
              "<table class=\"dataframe\">\n",
              "<caption>A data.frame: 100 × 14</caption>\n",
              "<thead>\n",
              "\t<tr><th scope=col>Pokemon.Species</th><th scope=col>Nickname</th><th scope=col>Type</th><th scope=col>From.Egg.</th><th scope=col>From.Raid.</th><th scope=col>Random.Research.Task.</th><th scope=col>From.Rocket.Leader.Grunt..Is.Purified..</th><th scope=col>From.Event.</th><th scope=col>Is.Shiny.</th><th scope=col>Height..m.</th><th scope=col>Weight..kg.</th><th scope=col>Generation</th><th scope=col>Date.Found</th><th scope=col>Location</th></tr>\n",
              "\t<tr><th scope=col>&lt;chr&gt;</th><th scope=col>&lt;chr&gt;</th><th scope=col>&lt;chr&gt;</th><th scope=col>&lt;chr&gt;</th><th scope=col>&lt;chr&gt;</th><th scope=col>&lt;chr&gt;</th><th scope=col>&lt;chr&gt;</th><th scope=col>&lt;chr&gt;</th><th scope=col>&lt;chr&gt;</th><th scope=col>&lt;dbl&gt;</th><th scope=col>&lt;dbl&gt;</th><th scope=col>&lt;int&gt;</th><th scope=col>&lt;chr&gt;</th><th scope=col>&lt;chr&gt;</th></tr>\n",
              "</thead>\n",
              "<tbody>\n",
              "\t<tr><td>Porygon-Z      </td><td>Mecha-Quack </td><td>Normal          </td><td>No </td><td>No </td><td>No </td><td>Yes         </td><td>No                          </td><td>No</td><td>0.73</td><td> 15.95</td><td>4</td><td>11/25/2019</td><td>Auburn, WA     </td></tr>\n",
              "\t<tr><td>Bellossom      </td><td>Luau        </td><td>Grass           </td><td>No </td><td>No </td><td>No </td><td>Yes         </td><td>No                          </td><td>No</td><td>0.35</td><td>  5.42</td><td>2</td><td>11/26/2019</td><td>Auburn, WA     </td></tr>\n",
              "\t<tr><td>Gallade        </td><td>Link        </td><td>Psychic/Fighting</td><td>No </td><td>Yes</td><td>No </td><td>No          </td><td>No                          </td><td>No</td><td>1.34</td><td> 25.63</td><td>4</td><td>7/16/2020 </td><td>Auburn, WA     </td></tr>\n",
              "\t<tr><td>Mewtwo         </td><td>Frieza      </td><td>Psychic         </td><td>No </td><td>No </td><td>No </td><td>Yes         </td><td>Yes - GO Fest 2020          </td><td>No</td><td>1.99</td><td> 78.47</td><td>1</td><td>7/26/2020 </td><td>Auburn, WA     </td></tr>\n",
              "\t<tr><td>Scizor         </td><td>Exact-O     </td><td>Bug/Steel       </td><td>Yes</td><td>No </td><td>No </td><td>No          </td><td>No                          </td><td>No</td><td>2.09</td><td>156.91</td><td>2</td><td>7/28/2020 </td><td>Auburn, WA     </td></tr>\n",
              "\t<tr><td>Lapras         </td><td>Nessie      </td><td>Water/Ice       </td><td>No </td><td>No </td><td>No </td><td>Yes - Sierra</td><td>Yes - Sierra                </td><td>No</td><td>2.56</td><td>207.32</td><td>1</td><td>8/5/2020  </td><td>Auburn, WA     </td></tr>\n",
              "\t<tr><td>Magnezone      </td><td>Tesla       </td><td>Electric/Steel  </td><td>No </td><td>No </td><td>No </td><td>Yes         </td><td>No                          </td><td>No</td><td>1.38</td><td>247.32</td><td>4</td><td>8/6/2020  </td><td>Auburn, WA     </td></tr>\n",
              "\t<tr><td>Unown-A        </td><td>Awesome     </td><td>Psychic         </td><td>No </td><td>Yes</td><td>No </td><td>No          </td><td>Yes - ULTRA Unlock 2020     </td><td>No</td><td>0.52</td><td>  5.23</td><td>2</td><td>8/12/2020 </td><td>Auburn, WA     </td></tr>\n",
              "\t<tr><td>Perrserker     </td><td>FuzzyBoi    </td><td>Steel           </td><td>Yes</td><td>No </td><td>No </td><td>No          </td><td>No                          </td><td>No</td><td>0.85</td><td> 27.67</td><td>8</td><td>8/25/2020 </td><td>Auburn, WA     </td></tr>\n",
              "\t<tr><td>Stantler       </td><td>Comet       </td><td>Normal          </td><td>No </td><td>No </td><td>Yes</td><td>No          </td><td>Yes - Christmas 2020        </td><td>No</td><td>1.43</td><td> 85.01</td><td>2</td><td>12/31/2020</td><td>Auburn, WA     </td></tr>\n",
              "\t<tr><td>Magnezone      </td><td>Edison      </td><td>Electric/Steel  </td><td>No </td><td>No </td><td>No </td><td>Yes         </td><td>No                          </td><td>No</td><td>1.26</td><td>238.36</td><td>4</td><td>1/10/2021 </td><td>Auburn, WA     </td></tr>\n",
              "\t<tr><td>Walrein        </td><td>MahStache   </td><td>Ice/Water       </td><td>No </td><td>No </td><td>No </td><td>Yes         </td><td>No                          </td><td>No</td><td>1.30</td><td>137.50</td><td>3</td><td>2/5/2021  </td><td>Auburn, WA     </td></tr>\n",
              "\t<tr><td>Cloyster       </td><td>Shelly      </td><td>Water/Ice       </td><td>No </td><td>No </td><td>Yes</td><td>No          </td><td>No                          </td><td>No</td><td>1.78</td><td>186.53</td><td>1</td><td>2/25/2021 </td><td>Auburn, WA     </td></tr>\n",
              "\t<tr><td>Electrode      </td><td>Ballin'     </td><td>Electric        </td><td>No </td><td>No </td><td>Yes</td><td>No          </td><td>No                          </td><td>No</td><td>1.11</td><td> 59.57</td><td>1</td><td>3/1/2021  </td><td>Auburn, WA     </td></tr>\n",
              "\t<tr><td>Braviary       </td><td>Cpt. America</td><td>Normal/Flying   </td><td>Yes</td><td>No </td><td>No </td><td>No          </td><td>No                          </td><td>No</td><td>1.68</td><td> 55.16</td><td>5</td><td>3/4/2021  </td><td>Bonney Lake, WA</td></tr>\n",
              "\t<tr><td>Electrode      </td><td>PokeBall    </td><td>Electric        </td><td>No </td><td>No </td><td>Yes</td><td>No          </td><td>No                          </td><td>No</td><td>1.30</td><td> 67.28</td><td>1</td><td>3/18/2021 </td><td>Issaquah, WA   </td></tr>\n",
              "\t<tr><td>Jumpluff       </td><td>Q-Tip       </td><td>Grass/Flying    </td><td>No </td><td>No </td><td>Yes</td><td>No          </td><td>No                          </td><td>No</td><td>0.66</td><td>  2.12</td><td>2</td><td>3/19/2021 </td><td>Federal Way, WA</td></tr>\n",
              "\t<tr><td>Pyroar         </td><td>Nala        </td><td>Fire/Normal     </td><td>Yes</td><td>No </td><td>No </td><td>No          </td><td>No                          </td><td>No</td><td>1.52</td><td> 80.78</td><td>6</td><td>3/24/2021 </td><td>Auburn, WA     </td></tr>\n",
              "\t<tr><td>Cradily        </td><td>Invincibruh </td><td>Rock/Grass      </td><td>No </td><td>No </td><td>No </td><td>Yes         </td><td>No                          </td><td>No</td><td>1.42</td><td> 40.35</td><td>3</td><td>3/24/2021 </td><td>Covington, WA  </td></tr>\n",
              "\t<tr><td>Castform-Rain  </td><td>Stormy      </td><td>Water           </td><td>No </td><td>No </td><td>Yes</td><td>No          </td><td>No                          </td><td>No</td><td>0.26</td><td>  0.61</td><td>3</td><td>3/27/2021 </td><td>Auburn, WA     </td></tr>\n",
              "\t<tr><td>Castform-Cloudy</td><td>Claudia     </td><td>Normal          </td><td>No </td><td>No </td><td>Yes</td><td>No          </td><td>No                          </td><td>No</td><td>0.30</td><td>  1.00</td><td>3</td><td>3/27/2021 </td><td>Auburn, WA     </td></tr>\n",
              "\t<tr><td>Dragonite      </td><td>Diabeetus   </td><td>Dragon/Flying   </td><td>No </td><td>No </td><td>Yes</td><td>No          </td><td>No                          </td><td>No</td><td>2.09</td><td>173.00</td><td>1</td><td>4/2/2021  </td><td>Auburn, WA     </td></tr>\n",
              "\t<tr><td>Talonflame     </td><td>Lucy        </td><td>Fire/Flying     </td><td>Yes</td><td>No </td><td>No </td><td>No          </td><td>No                          </td><td>No</td><td>1.20</td><td> 22.95</td><td>6</td><td>4/8/2021  </td><td>Auburn, WA     </td></tr>\n",
              "\t<tr><td>Granbull       </td><td>Gracie      </td><td>Fairy           </td><td>No </td><td>No </td><td>Yes</td><td>No          </td><td>No                          </td><td>No</td><td>1.39</td><td> 34.37</td><td>2</td><td>5/9/2021  </td><td>Auburn, WA     </td></tr>\n",
              "\t<tr><td>Mawile         </td><td>Two Face    </td><td>Steel/Fairy     </td><td>No </td><td>No </td><td>Yes</td><td>No          </td><td>No                          </td><td>No</td><td>0.54</td><td>  9.75</td><td>3</td><td>5/10/2021 </td><td>Auburn, WA     </td></tr>\n",
              "\t<tr><td>Crobat         </td><td>Dracula     </td><td>Poison/Flying   </td><td>No </td><td>No </td><td>No </td><td>Yes         </td><td>No                          </td><td>No</td><td>1.56</td><td> 56.39</td><td>2</td><td>5/19/2021 </td><td>Auburn, WA     </td></tr>\n",
              "\t<tr><td>Mightyena      </td><td>Sadie       </td><td>Dark            </td><td>No </td><td>No </td><td>No </td><td>Yes         </td><td>No                          </td><td>No</td><td>0.99</td><td> 29.66</td><td>3</td><td>5/23/2021 </td><td>Auburn, WA     </td></tr>\n",
              "\t<tr><td>Jolteon        </td><td>Sparky      </td><td>Electric        </td><td>No </td><td>No </td><td>Yes</td><td>No          </td><td>No                          </td><td>No</td><td>0.86</td><td> 24.93</td><td>1</td><td>5/28/2021 </td><td>Auburn, WA     </td></tr>\n",
              "\t<tr><td>Exeggutor      </td><td>Eggcellent  </td><td>Grass/Psychic   </td><td>No </td><td>No </td><td>No </td><td>Yes         </td><td>No                          </td><td>No</td><td>2.34</td><td>182.79</td><td>1</td><td>6/4/2021  </td><td>Auburn, WA     </td></tr>\n",
              "\t<tr><td>Tyranitar      </td><td>Godzilla    </td><td>Rock/Dark       </td><td>No </td><td>No </td><td>Yes</td><td>No          </td><td>Yes - A Seven Colored Shadow</td><td>No</td><td>1.81</td><td>166.76</td><td>2</td><td>6/21/2021 </td><td>Auburn, WA     </td></tr>\n",
              "\t<tr><td>⋮</td><td>⋮</td><td>⋮</td><td>⋮</td><td>⋮</td><td>⋮</td><td>⋮</td><td>⋮</td><td>⋮</td><td>⋮</td><td>⋮</td><td>⋮</td><td>⋮</td><td>⋮</td></tr>\n",
              "\t<tr><td>Beedrill  </td><td>Barry       </td><td>Bug/Poison     </td><td>No</td><td>No </td><td>No </td><td>Yes         </td><td>No                               </td><td>No</td><td>0.84</td><td> 17.21</td><td>1</td><td>12/10/2022</td><td>Kent, WA       </td></tr>\n",
              "\t<tr><td>Hippowdon </td><td>Gloria      </td><td>Ground         </td><td>No</td><td>No </td><td>No </td><td>Yes         </td><td>No                               </td><td>No</td><td>1.50</td><td>172.78</td><td>4</td><td>12/10/2022</td><td>Kent, WA       </td></tr>\n",
              "\t<tr><td>Machamp   </td><td>Heracles    </td><td>Fighting       </td><td>No</td><td>No </td><td>Yes</td><td>No          </td><td>No                               </td><td>No</td><td>1.93</td><td>172.07</td><td>1</td><td>12/10/2022</td><td>Auburn, WA     </td></tr>\n",
              "\t<tr><td>Annihilape</td><td>PMS         </td><td>Fighting       </td><td>No</td><td>No </td><td>Yes</td><td>No          </td><td>No                               </td><td>No</td><td>1.47</td><td> 76.84</td><td>9</td><td>12/11/2022</td><td>Kent, WA       </td></tr>\n",
              "\t<tr><td>Walrein   </td><td>AAAAAAAA    </td><td>Ice/Water      </td><td>No</td><td>No </td><td>Yes</td><td>No          </td><td>Yes - December Community Day 2022</td><td>No</td><td>1.40</td><td>105.97</td><td>3</td><td>12/18/2022</td><td>Auburn, WA     </td></tr>\n",
              "\t<tr><td>Glaceon   </td><td>Lorelei     </td><td>Ice            </td><td>No</td><td>No </td><td>Yes</td><td>No          </td><td>Yes - Holiday 2022               </td><td>No</td><td>0.71</td><td> 14.39</td><td>4</td><td>12/24/2022</td><td>Kent, WA       </td></tr>\n",
              "\t<tr><td>Dewgong   </td><td>Flipper     </td><td>Water/Ice      </td><td>No</td><td>No </td><td>Yes</td><td>No          </td><td>No                               </td><td>No</td><td>1.56</td><td>114.80</td><td>1</td><td>12/31/2022</td><td>Kent, WA       </td></tr>\n",
              "\t<tr><td>Camerupt  </td><td>Bob         </td><td>Fire/Ground    </td><td>No</td><td>No </td><td>No </td><td>Yes         </td><td>No                               </td><td>No</td><td>2.05</td><td>234.20</td><td>3</td><td>1/3/2023  </td><td>Auburn, WA     </td></tr>\n",
              "\t<tr><td>Watchog   </td><td>Filbert     </td><td>Normal         </td><td>No</td><td>No </td><td>No </td><td>Yes         </td><td>No                               </td><td>No</td><td>0.89</td><td> 18.06</td><td>5</td><td>1/11/2023 </td><td>Auburn, WA     </td></tr>\n",
              "\t<tr><td>Machamp   </td><td>HulkHogan   </td><td>Fighting       </td><td>No</td><td>No </td><td>No </td><td>Yes - Cliff </td><td>Yes - Cliff                      </td><td>No</td><td>1.43</td><td> 95.32</td><td>1</td><td>1/19/2023 </td><td>Auburn, WA     </td></tr>\n",
              "\t<tr><td>Magnezone </td><td>Volta       </td><td>Electric/Steel </td><td>No</td><td>No </td><td>Yes</td><td>No          </td><td>Yes - Crackling Voltage          </td><td>No</td><td>1.01</td><td>121.87</td><td>4</td><td>1/27/2023 </td><td>Auburn, WA     </td></tr>\n",
              "\t<tr><td>Heliolisk </td><td>Annette     </td><td>Electric/Normal</td><td>No</td><td>No </td><td>Yes</td><td>No          </td><td>Yes - Crackling Voltage          </td><td>No</td><td>1.06</td><td> 22.60</td><td>6</td><td>1/28/2023 </td><td>Renton, WA     </td></tr>\n",
              "\t<tr><td>Snorlax   </td><td>Nikocado    </td><td>Normal         </td><td>No</td><td>No </td><td>Yes</td><td>No          </td><td>No                               </td><td>No</td><td>2.20</td><td>532.67</td><td>1</td><td>2/1/2023  </td><td>Federal Way, WA</td></tr>\n",
              "\t<tr><td>Skuntank  </td><td>Jupiter     </td><td>Poison/Dark    </td><td>No</td><td>No </td><td>No </td><td>Yes         </td><td>No                               </td><td>No</td><td>1.21</td><td> 53.15</td><td>4</td><td>2/2/2023  </td><td>Kent, WA       </td></tr>\n",
              "\t<tr><td>Victreebel</td><td>Fleshlight  </td><td>Grass/Poison   </td><td>No</td><td>No </td><td>No </td><td>Yes         </td><td>Yes - Decoy Grunt                </td><td>No</td><td>2.12</td><td> 22.80</td><td>1</td><td>2/2/2023  </td><td>Kent, WA       </td></tr>\n",
              "\t<tr><td>Hitmonlee </td><td>Bruce Lee   </td><td>Fighting       </td><td>No</td><td>No </td><td>No </td><td>Yes         </td><td>No                               </td><td>No</td><td>1.49</td><td> 44.84</td><td>1</td><td>2/5/2023  </td><td>Kent, WA       </td></tr>\n",
              "\t<tr><td>Nidoking  </td><td>Big Daddy   </td><td>Poison/Ground  </td><td>No</td><td>No </td><td>No </td><td>Yes - Arlo  </td><td>Yes - Arlo                       </td><td>No</td><td>1.54</td><td> 84.52</td><td>1</td><td>2/7/2023  </td><td>Auburn, WA     </td></tr>\n",
              "\t<tr><td>Leavanny  </td><td>MEEP        </td><td>Bug/Grass      </td><td>No</td><td>No </td><td>Yes</td><td>No          </td><td>No                               </td><td>No</td><td>1.25</td><td> 23.08</td><td>5</td><td>2/9/2023  </td><td>Auburn, WA     </td></tr>\n",
              "\t<tr><td>Golurk    </td><td>Armos       </td><td>Ground/Ghost   </td><td>No</td><td>No </td><td>No </td><td>Yes         </td><td>Yes - Team Rocket Takeover       </td><td>No</td><td>3.39</td><td>427.39</td><td>5</td><td>2/11/2023 </td><td>Kent, WA       </td></tr>\n",
              "\t<tr><td>Spinda    </td><td>Spot        </td><td>Normal         </td><td>No</td><td>No </td><td>Yes</td><td>No          </td><td>Yes - Heart-Shaped Spot Pattern  </td><td>No</td><td>1.29</td><td>  6.68</td><td>3</td><td>2/12/2023 </td><td>Auburn, WA     </td></tr>\n",
              "\t<tr><td>Reuniclus </td><td>Blobbie     </td><td>Psychic        </td><td>No</td><td>Yes</td><td>No </td><td>No          </td><td>No                               </td><td>No</td><td>0.89</td><td> 14.48</td><td>5</td><td>2/16/2023 </td><td>Auburn, WA     </td></tr>\n",
              "\t<tr><td>Jynx      </td><td>Frostitute  </td><td>Ice/Psychic    </td><td>No</td><td>No </td><td>Yes</td><td>No          </td><td>No                               </td><td>No</td><td>1.46</td><td> 41.74</td><td>1</td><td>2/16/2023 </td><td>Kent, WA       </td></tr>\n",
              "\t<tr><td>Hitmonchan</td><td>JackieChan  </td><td>Fighting       </td><td>No</td><td>No </td><td>No </td><td>Yes         </td><td>No                               </td><td>No</td><td>1.60</td><td> 65.81</td><td>1</td><td>2/18/2023 </td><td>Kent, WA       </td></tr>\n",
              "\t<tr><td>Ampharos  </td><td>Amphy       </td><td>Electric       </td><td>No</td><td>No </td><td>No </td><td>Yes         </td><td>No                               </td><td>No</td><td>1.66</td><td> 78.09</td><td>2</td><td>2/18/2023 </td><td>Tukwila, WA    </td></tr>\n",
              "\t<tr><td>Metagross </td><td>Optimus P.  </td><td>Steel/Psychic  </td><td>No</td><td>No </td><td>No </td><td>Yes - Sierra</td><td>Yes - Sierra                     </td><td>No</td><td>1.01</td><td>239.49</td><td>3</td><td>2/18/2023 </td><td>SeaTac, WA     </td></tr>\n",
              "\t<tr><td>Exploud   </td><td>Maxell      </td><td>Normal         </td><td>No</td><td>No </td><td>Yes</td><td>No          </td><td>Yes - Primal Rumblings           </td><td>No</td><td>1.40</td><td> 92.46</td><td>3</td><td>2/24/2023 </td><td>Kent, WA       </td></tr>\n",
              "\t<tr><td>Blaziken  </td><td>The Colonel </td><td>Fire/Fighting  </td><td>No</td><td>No </td><td>Yes</td><td>No          </td><td>Yes - Primal Rumblings           </td><td>No</td><td>1.69</td><td> 39.61</td><td>3</td><td>2/24/2023 </td><td>Auburn, WA     </td></tr>\n",
              "\t<tr><td>Sableye   </td><td>Jasper      </td><td>Dark/Ghost     </td><td>No</td><td>No </td><td>Yes</td><td>No          </td><td>Yes - Hoenn Tour 2022            </td><td>No</td><td>0.47</td><td>  8.83</td><td>3</td><td>2/25/2023 </td><td>Seattle, WA    </td></tr>\n",
              "\t<tr><td>Sudowoodo </td><td>Roxanne     </td><td>Rock           </td><td>No</td><td>No </td><td>Yes</td><td>No          </td><td>No                               </td><td>No</td><td>0.95</td><td> 10.86</td><td>2</td><td>3/4/2023  </td><td>Auburn, WA     </td></tr>\n",
              "\t<tr><td>Hitmontop </td><td>TopOfDaWorld</td><td>Fighting       </td><td>No</td><td>No </td><td>No </td><td>Yes         </td><td>Yes - 100th Perfect              </td><td>No</td><td>1.23</td><td> 24.41</td><td>2</td><td>3/5/2023  </td><td>Kent, WA       </td></tr>\n",
              "</tbody>\n",
              "</table>\n"
            ],
            "text/markdown": "\nA data.frame: 100 × 14\n\n| Pokemon.Species &lt;chr&gt; | Nickname &lt;chr&gt; | Type &lt;chr&gt; | From.Egg. &lt;chr&gt; | From.Raid. &lt;chr&gt; | Random.Research.Task. &lt;chr&gt; | From.Rocket.Leader.Grunt..Is.Purified.. &lt;chr&gt; | From.Event. &lt;chr&gt; | Is.Shiny. &lt;chr&gt; | Height..m. &lt;dbl&gt; | Weight..kg. &lt;dbl&gt; | Generation &lt;int&gt; | Date.Found &lt;chr&gt; | Location &lt;chr&gt; |\n|---|---|---|---|---|---|---|---|---|---|---|---|---|---|\n| Porygon-Z       | Mecha-Quack  | Normal           | No  | No  | No  | Yes          | No                           | No | 0.73 |  15.95 | 4 | 11/25/2019 | Auburn, WA      |\n| Bellossom       | Luau         | Grass            | No  | No  | No  | Yes          | No                           | No | 0.35 |   5.42 | 2 | 11/26/2019 | Auburn, WA      |\n| Gallade         | Link         | Psychic/Fighting | No  | Yes | No  | No           | No                           | No | 1.34 |  25.63 | 4 | 7/16/2020  | Auburn, WA      |\n| Mewtwo          | Frieza       | Psychic          | No  | No  | No  | Yes          | Yes - GO Fest 2020           | No | 1.99 |  78.47 | 1 | 7/26/2020  | Auburn, WA      |\n| Scizor          | Exact-O      | Bug/Steel        | Yes | No  | No  | No           | No                           | No | 2.09 | 156.91 | 2 | 7/28/2020  | Auburn, WA      |\n| Lapras          | Nessie       | Water/Ice        | No  | No  | No  | Yes - Sierra | Yes - Sierra                 | No | 2.56 | 207.32 | 1 | 8/5/2020   | Auburn, WA      |\n| Magnezone       | Tesla        | Electric/Steel   | No  | No  | No  | Yes          | No                           | No | 1.38 | 247.32 | 4 | 8/6/2020   | Auburn, WA      |\n| Unown-A         | Awesome      | Psychic          | No  | Yes | No  | No           | Yes - ULTRA Unlock 2020      | No | 0.52 |   5.23 | 2 | 8/12/2020  | Auburn, WA      |\n| Perrserker      | FuzzyBoi     | Steel            | Yes | No  | No  | No           | No                           | No | 0.85 |  27.67 | 8 | 8/25/2020  | Auburn, WA      |\n| Stantler        | Comet        | Normal           | No  | No  | Yes | No           | Yes - Christmas 2020         | No | 1.43 |  85.01 | 2 | 12/31/2020 | Auburn, WA      |\n| Magnezone       | Edison       | Electric/Steel   | No  | No  | No  | Yes          | No                           | No | 1.26 | 238.36 | 4 | 1/10/2021  | Auburn, WA      |\n| Walrein         | MahStache    | Ice/Water        | No  | No  | No  | Yes          | No                           | No | 1.30 | 137.50 | 3 | 2/5/2021   | Auburn, WA      |\n| Cloyster        | Shelly       | Water/Ice        | No  | No  | Yes | No           | No                           | No | 1.78 | 186.53 | 1 | 2/25/2021  | Auburn, WA      |\n| Electrode       | Ballin'      | Electric         | No  | No  | Yes | No           | No                           | No | 1.11 |  59.57 | 1 | 3/1/2021   | Auburn, WA      |\n| Braviary        | Cpt. America | Normal/Flying    | Yes | No  | No  | No           | No                           | No | 1.68 |  55.16 | 5 | 3/4/2021   | Bonney Lake, WA |\n| Electrode       | PokeBall     | Electric         | No  | No  | Yes | No           | No                           | No | 1.30 |  67.28 | 1 | 3/18/2021  | Issaquah, WA    |\n| Jumpluff        | Q-Tip        | Grass/Flying     | No  | No  | Yes | No           | No                           | No | 0.66 |   2.12 | 2 | 3/19/2021  | Federal Way, WA |\n| Pyroar          | Nala         | Fire/Normal      | Yes | No  | No  | No           | No                           | No | 1.52 |  80.78 | 6 | 3/24/2021  | Auburn, WA      |\n| Cradily         | Invincibruh  | Rock/Grass       | No  | No  | No  | Yes          | No                           | No | 1.42 |  40.35 | 3 | 3/24/2021  | Covington, WA   |\n| Castform-Rain   | Stormy       | Water            | No  | No  | Yes | No           | No                           | No | 0.26 |   0.61 | 3 | 3/27/2021  | Auburn, WA      |\n| Castform-Cloudy | Claudia      | Normal           | No  | No  | Yes | No           | No                           | No | 0.30 |   1.00 | 3 | 3/27/2021  | Auburn, WA      |\n| Dragonite       | Diabeetus    | Dragon/Flying    | No  | No  | Yes | No           | No                           | No | 2.09 | 173.00 | 1 | 4/2/2021   | Auburn, WA      |\n| Talonflame      | Lucy         | Fire/Flying      | Yes | No  | No  | No           | No                           | No | 1.20 |  22.95 | 6 | 4/8/2021   | Auburn, WA      |\n| Granbull        | Gracie       | Fairy            | No  | No  | Yes | No           | No                           | No | 1.39 |  34.37 | 2 | 5/9/2021   | Auburn, WA      |\n| Mawile          | Two Face     | Steel/Fairy      | No  | No  | Yes | No           | No                           | No | 0.54 |   9.75 | 3 | 5/10/2021  | Auburn, WA      |\n| Crobat          | Dracula      | Poison/Flying    | No  | No  | No  | Yes          | No                           | No | 1.56 |  56.39 | 2 | 5/19/2021  | Auburn, WA      |\n| Mightyena       | Sadie        | Dark             | No  | No  | No  | Yes          | No                           | No | 0.99 |  29.66 | 3 | 5/23/2021  | Auburn, WA      |\n| Jolteon         | Sparky       | Electric         | No  | No  | Yes | No           | No                           | No | 0.86 |  24.93 | 1 | 5/28/2021  | Auburn, WA      |\n| Exeggutor       | Eggcellent   | Grass/Psychic    | No  | No  | No  | Yes          | No                           | No | 2.34 | 182.79 | 1 | 6/4/2021   | Auburn, WA      |\n| Tyranitar       | Godzilla     | Rock/Dark        | No  | No  | Yes | No           | Yes - A Seven Colored Shadow | No | 1.81 | 166.76 | 2 | 6/21/2021  | Auburn, WA      |\n| ⋮ | ⋮ | ⋮ | ⋮ | ⋮ | ⋮ | ⋮ | ⋮ | ⋮ | ⋮ | ⋮ | ⋮ | ⋮ | ⋮ |\n| Beedrill   | Barry        | Bug/Poison      | No | No  | No  | Yes          | No                                | No | 0.84 |  17.21 | 1 | 12/10/2022 | Kent, WA        |\n| Hippowdon  | Gloria       | Ground          | No | No  | No  | Yes          | No                                | No | 1.50 | 172.78 | 4 | 12/10/2022 | Kent, WA        |\n| Machamp    | Heracles     | Fighting        | No | No  | Yes | No           | No                                | No | 1.93 | 172.07 | 1 | 12/10/2022 | Auburn, WA      |\n| Annihilape | PMS          | Fighting        | No | No  | Yes | No           | No                                | No | 1.47 |  76.84 | 9 | 12/11/2022 | Kent, WA        |\n| Walrein    | AAAAAAAA     | Ice/Water       | No | No  | Yes | No           | Yes - December Community Day 2022 | No | 1.40 | 105.97 | 3 | 12/18/2022 | Auburn, WA      |\n| Glaceon    | Lorelei      | Ice             | No | No  | Yes | No           | Yes - Holiday 2022                | No | 0.71 |  14.39 | 4 | 12/24/2022 | Kent, WA        |\n| Dewgong    | Flipper      | Water/Ice       | No | No  | Yes | No           | No                                | No | 1.56 | 114.80 | 1 | 12/31/2022 | Kent, WA        |\n| Camerupt   | Bob          | Fire/Ground     | No | No  | No  | Yes          | No                                | No | 2.05 | 234.20 | 3 | 1/3/2023   | Auburn, WA      |\n| Watchog    | Filbert      | Normal          | No | No  | No  | Yes          | No                                | No | 0.89 |  18.06 | 5 | 1/11/2023  | Auburn, WA      |\n| Machamp    | HulkHogan    | Fighting        | No | No  | No  | Yes - Cliff  | Yes - Cliff                       | No | 1.43 |  95.32 | 1 | 1/19/2023  | Auburn, WA      |\n| Magnezone  | Volta        | Electric/Steel  | No | No  | Yes | No           | Yes - Crackling Voltage           | No | 1.01 | 121.87 | 4 | 1/27/2023  | Auburn, WA      |\n| Heliolisk  | Annette      | Electric/Normal | No | No  | Yes | No           | Yes - Crackling Voltage           | No | 1.06 |  22.60 | 6 | 1/28/2023  | Renton, WA      |\n| Snorlax    | Nikocado     | Normal          | No | No  | Yes | No           | No                                | No | 2.20 | 532.67 | 1 | 2/1/2023   | Federal Way, WA |\n| Skuntank   | Jupiter      | Poison/Dark     | No | No  | No  | Yes          | No                                | No | 1.21 |  53.15 | 4 | 2/2/2023   | Kent, WA        |\n| Victreebel | Fleshlight   | Grass/Poison    | No | No  | No  | Yes          | Yes - Decoy Grunt                 | No | 2.12 |  22.80 | 1 | 2/2/2023   | Kent, WA        |\n| Hitmonlee  | Bruce Lee    | Fighting        | No | No  | No  | Yes          | No                                | No | 1.49 |  44.84 | 1 | 2/5/2023   | Kent, WA        |\n| Nidoking   | Big Daddy    | Poison/Ground   | No | No  | No  | Yes - Arlo   | Yes - Arlo                        | No | 1.54 |  84.52 | 1 | 2/7/2023   | Auburn, WA      |\n| Leavanny   | MEEP         | Bug/Grass       | No | No  | Yes | No           | No                                | No | 1.25 |  23.08 | 5 | 2/9/2023   | Auburn, WA      |\n| Golurk     | Armos        | Ground/Ghost    | No | No  | No  | Yes          | Yes - Team Rocket Takeover        | No | 3.39 | 427.39 | 5 | 2/11/2023  | Kent, WA        |\n| Spinda     | Spot         | Normal          | No | No  | Yes | No           | Yes - Heart-Shaped Spot Pattern   | No | 1.29 |   6.68 | 3 | 2/12/2023  | Auburn, WA      |\n| Reuniclus  | Blobbie      | Psychic         | No | Yes | No  | No           | No                                | No | 0.89 |  14.48 | 5 | 2/16/2023  | Auburn, WA      |\n| Jynx       | Frostitute   | Ice/Psychic     | No | No  | Yes | No           | No                                | No | 1.46 |  41.74 | 1 | 2/16/2023  | Kent, WA        |\n| Hitmonchan | JackieChan   | Fighting        | No | No  | No  | Yes          | No                                | No | 1.60 |  65.81 | 1 | 2/18/2023  | Kent, WA        |\n| Ampharos   | Amphy        | Electric        | No | No  | No  | Yes          | No                                | No | 1.66 |  78.09 | 2 | 2/18/2023  | Tukwila, WA     |\n| Metagross  | Optimus P.   | Steel/Psychic   | No | No  | No  | Yes - Sierra | Yes - Sierra                      | No | 1.01 | 239.49 | 3 | 2/18/2023  | SeaTac, WA      |\n| Exploud    | Maxell       | Normal          | No | No  | Yes | No           | Yes - Primal Rumblings            | No | 1.40 |  92.46 | 3 | 2/24/2023  | Kent, WA        |\n| Blaziken   | The Colonel  | Fire/Fighting   | No | No  | Yes | No           | Yes - Primal Rumblings            | No | 1.69 |  39.61 | 3 | 2/24/2023  | Auburn, WA      |\n| Sableye    | Jasper       | Dark/Ghost      | No | No  | Yes | No           | Yes - Hoenn Tour 2022             | No | 0.47 |   8.83 | 3 | 2/25/2023  | Seattle, WA     |\n| Sudowoodo  | Roxanne      | Rock            | No | No  | Yes | No           | No                                | No | 0.95 |  10.86 | 2 | 3/4/2023   | Auburn, WA      |\n| Hitmontop  | TopOfDaWorld | Fighting        | No | No  | No  | Yes          | Yes - 100th Perfect               | No | 1.23 |  24.41 | 2 | 3/5/2023   | Kent, WA        |\n\n",
            "text/latex": "A data.frame: 100 × 14\n\\begin{tabular}{llllllllllllll}\n Pokemon.Species & Nickname & Type & From.Egg. & From.Raid. & Random.Research.Task. & From.Rocket.Leader.Grunt..Is.Purified.. & From.Event. & Is.Shiny. & Height..m. & Weight..kg. & Generation & Date.Found & Location\\\\\n <chr> & <chr> & <chr> & <chr> & <chr> & <chr> & <chr> & <chr> & <chr> & <dbl> & <dbl> & <int> & <chr> & <chr>\\\\\n\\hline\n\t Porygon-Z       & Mecha-Quack  & Normal           & No  & No  & No  & Yes          & No                           & No & 0.73 &  15.95 & 4 & 11/25/2019 & Auburn, WA     \\\\\n\t Bellossom       & Luau         & Grass            & No  & No  & No  & Yes          & No                           & No & 0.35 &   5.42 & 2 & 11/26/2019 & Auburn, WA     \\\\\n\t Gallade         & Link         & Psychic/Fighting & No  & Yes & No  & No           & No                           & No & 1.34 &  25.63 & 4 & 7/16/2020  & Auburn, WA     \\\\\n\t Mewtwo          & Frieza       & Psychic          & No  & No  & No  & Yes          & Yes - GO Fest 2020           & No & 1.99 &  78.47 & 1 & 7/26/2020  & Auburn, WA     \\\\\n\t Scizor          & Exact-O      & Bug/Steel        & Yes & No  & No  & No           & No                           & No & 2.09 & 156.91 & 2 & 7/28/2020  & Auburn, WA     \\\\\n\t Lapras          & Nessie       & Water/Ice        & No  & No  & No  & Yes - Sierra & Yes - Sierra                 & No & 2.56 & 207.32 & 1 & 8/5/2020   & Auburn, WA     \\\\\n\t Magnezone       & Tesla        & Electric/Steel   & No  & No  & No  & Yes          & No                           & No & 1.38 & 247.32 & 4 & 8/6/2020   & Auburn, WA     \\\\\n\t Unown-A         & Awesome      & Psychic          & No  & Yes & No  & No           & Yes - ULTRA Unlock 2020      & No & 0.52 &   5.23 & 2 & 8/12/2020  & Auburn, WA     \\\\\n\t Perrserker      & FuzzyBoi     & Steel            & Yes & No  & No  & No           & No                           & No & 0.85 &  27.67 & 8 & 8/25/2020  & Auburn, WA     \\\\\n\t Stantler        & Comet        & Normal           & No  & No  & Yes & No           & Yes - Christmas 2020         & No & 1.43 &  85.01 & 2 & 12/31/2020 & Auburn, WA     \\\\\n\t Magnezone       & Edison       & Electric/Steel   & No  & No  & No  & Yes          & No                           & No & 1.26 & 238.36 & 4 & 1/10/2021  & Auburn, WA     \\\\\n\t Walrein         & MahStache    & Ice/Water        & No  & No  & No  & Yes          & No                           & No & 1.30 & 137.50 & 3 & 2/5/2021   & Auburn, WA     \\\\\n\t Cloyster        & Shelly       & Water/Ice        & No  & No  & Yes & No           & No                           & No & 1.78 & 186.53 & 1 & 2/25/2021  & Auburn, WA     \\\\\n\t Electrode       & Ballin'      & Electric         & No  & No  & Yes & No           & No                           & No & 1.11 &  59.57 & 1 & 3/1/2021   & Auburn, WA     \\\\\n\t Braviary        & Cpt. America & Normal/Flying    & Yes & No  & No  & No           & No                           & No & 1.68 &  55.16 & 5 & 3/4/2021   & Bonney Lake, WA\\\\\n\t Electrode       & PokeBall     & Electric         & No  & No  & Yes & No           & No                           & No & 1.30 &  67.28 & 1 & 3/18/2021  & Issaquah, WA   \\\\\n\t Jumpluff        & Q-Tip        & Grass/Flying     & No  & No  & Yes & No           & No                           & No & 0.66 &   2.12 & 2 & 3/19/2021  & Federal Way, WA\\\\\n\t Pyroar          & Nala         & Fire/Normal      & Yes & No  & No  & No           & No                           & No & 1.52 &  80.78 & 6 & 3/24/2021  & Auburn, WA     \\\\\n\t Cradily         & Invincibruh  & Rock/Grass       & No  & No  & No  & Yes          & No                           & No & 1.42 &  40.35 & 3 & 3/24/2021  & Covington, WA  \\\\\n\t Castform-Rain   & Stormy       & Water            & No  & No  & Yes & No           & No                           & No & 0.26 &   0.61 & 3 & 3/27/2021  & Auburn, WA     \\\\\n\t Castform-Cloudy & Claudia      & Normal           & No  & No  & Yes & No           & No                           & No & 0.30 &   1.00 & 3 & 3/27/2021  & Auburn, WA     \\\\\n\t Dragonite       & Diabeetus    & Dragon/Flying    & No  & No  & Yes & No           & No                           & No & 2.09 & 173.00 & 1 & 4/2/2021   & Auburn, WA     \\\\\n\t Talonflame      & Lucy         & Fire/Flying      & Yes & No  & No  & No           & No                           & No & 1.20 &  22.95 & 6 & 4/8/2021   & Auburn, WA     \\\\\n\t Granbull        & Gracie       & Fairy            & No  & No  & Yes & No           & No                           & No & 1.39 &  34.37 & 2 & 5/9/2021   & Auburn, WA     \\\\\n\t Mawile          & Two Face     & Steel/Fairy      & No  & No  & Yes & No           & No                           & No & 0.54 &   9.75 & 3 & 5/10/2021  & Auburn, WA     \\\\\n\t Crobat          & Dracula      & Poison/Flying    & No  & No  & No  & Yes          & No                           & No & 1.56 &  56.39 & 2 & 5/19/2021  & Auburn, WA     \\\\\n\t Mightyena       & Sadie        & Dark             & No  & No  & No  & Yes          & No                           & No & 0.99 &  29.66 & 3 & 5/23/2021  & Auburn, WA     \\\\\n\t Jolteon         & Sparky       & Electric         & No  & No  & Yes & No           & No                           & No & 0.86 &  24.93 & 1 & 5/28/2021  & Auburn, WA     \\\\\n\t Exeggutor       & Eggcellent   & Grass/Psychic    & No  & No  & No  & Yes          & No                           & No & 2.34 & 182.79 & 1 & 6/4/2021   & Auburn, WA     \\\\\n\t Tyranitar       & Godzilla     & Rock/Dark        & No  & No  & Yes & No           & Yes - A Seven Colored Shadow & No & 1.81 & 166.76 & 2 & 6/21/2021  & Auburn, WA     \\\\\n\t ⋮ & ⋮ & ⋮ & ⋮ & ⋮ & ⋮ & ⋮ & ⋮ & ⋮ & ⋮ & ⋮ & ⋮ & ⋮ & ⋮\\\\\n\t Beedrill   & Barry        & Bug/Poison      & No & No  & No  & Yes          & No                                & No & 0.84 &  17.21 & 1 & 12/10/2022 & Kent, WA       \\\\\n\t Hippowdon  & Gloria       & Ground          & No & No  & No  & Yes          & No                                & No & 1.50 & 172.78 & 4 & 12/10/2022 & Kent, WA       \\\\\n\t Machamp    & Heracles     & Fighting        & No & No  & Yes & No           & No                                & No & 1.93 & 172.07 & 1 & 12/10/2022 & Auburn, WA     \\\\\n\t Annihilape & PMS          & Fighting        & No & No  & Yes & No           & No                                & No & 1.47 &  76.84 & 9 & 12/11/2022 & Kent, WA       \\\\\n\t Walrein    & AAAAAAAA     & Ice/Water       & No & No  & Yes & No           & Yes - December Community Day 2022 & No & 1.40 & 105.97 & 3 & 12/18/2022 & Auburn, WA     \\\\\n\t Glaceon    & Lorelei      & Ice             & No & No  & Yes & No           & Yes - Holiday 2022                & No & 0.71 &  14.39 & 4 & 12/24/2022 & Kent, WA       \\\\\n\t Dewgong    & Flipper      & Water/Ice       & No & No  & Yes & No           & No                                & No & 1.56 & 114.80 & 1 & 12/31/2022 & Kent, WA       \\\\\n\t Camerupt   & Bob          & Fire/Ground     & No & No  & No  & Yes          & No                                & No & 2.05 & 234.20 & 3 & 1/3/2023   & Auburn, WA     \\\\\n\t Watchog    & Filbert      & Normal          & No & No  & No  & Yes          & No                                & No & 0.89 &  18.06 & 5 & 1/11/2023  & Auburn, WA     \\\\\n\t Machamp    & HulkHogan    & Fighting        & No & No  & No  & Yes - Cliff  & Yes - Cliff                       & No & 1.43 &  95.32 & 1 & 1/19/2023  & Auburn, WA     \\\\\n\t Magnezone  & Volta        & Electric/Steel  & No & No  & Yes & No           & Yes - Crackling Voltage           & No & 1.01 & 121.87 & 4 & 1/27/2023  & Auburn, WA     \\\\\n\t Heliolisk  & Annette      & Electric/Normal & No & No  & Yes & No           & Yes - Crackling Voltage           & No & 1.06 &  22.60 & 6 & 1/28/2023  & Renton, WA     \\\\\n\t Snorlax    & Nikocado     & Normal          & No & No  & Yes & No           & No                                & No & 2.20 & 532.67 & 1 & 2/1/2023   & Federal Way, WA\\\\\n\t Skuntank   & Jupiter      & Poison/Dark     & No & No  & No  & Yes          & No                                & No & 1.21 &  53.15 & 4 & 2/2/2023   & Kent, WA       \\\\\n\t Victreebel & Fleshlight   & Grass/Poison    & No & No  & No  & Yes          & Yes - Decoy Grunt                 & No & 2.12 &  22.80 & 1 & 2/2/2023   & Kent, WA       \\\\\n\t Hitmonlee  & Bruce Lee    & Fighting        & No & No  & No  & Yes          & No                                & No & 1.49 &  44.84 & 1 & 2/5/2023   & Kent, WA       \\\\\n\t Nidoking   & Big Daddy    & Poison/Ground   & No & No  & No  & Yes - Arlo   & Yes - Arlo                        & No & 1.54 &  84.52 & 1 & 2/7/2023   & Auburn, WA     \\\\\n\t Leavanny   & MEEP         & Bug/Grass       & No & No  & Yes & No           & No                                & No & 1.25 &  23.08 & 5 & 2/9/2023   & Auburn, WA     \\\\\n\t Golurk     & Armos        & Ground/Ghost    & No & No  & No  & Yes          & Yes - Team Rocket Takeover        & No & 3.39 & 427.39 & 5 & 2/11/2023  & Kent, WA       \\\\\n\t Spinda     & Spot         & Normal          & No & No  & Yes & No           & Yes - Heart-Shaped Spot Pattern   & No & 1.29 &   6.68 & 3 & 2/12/2023  & Auburn, WA     \\\\\n\t Reuniclus  & Blobbie      & Psychic         & No & Yes & No  & No           & No                                & No & 0.89 &  14.48 & 5 & 2/16/2023  & Auburn, WA     \\\\\n\t Jynx       & Frostitute   & Ice/Psychic     & No & No  & Yes & No           & No                                & No & 1.46 &  41.74 & 1 & 2/16/2023  & Kent, WA       \\\\\n\t Hitmonchan & JackieChan   & Fighting        & No & No  & No  & Yes          & No                                & No & 1.60 &  65.81 & 1 & 2/18/2023  & Kent, WA       \\\\\n\t Ampharos   & Amphy        & Electric        & No & No  & No  & Yes          & No                                & No & 1.66 &  78.09 & 2 & 2/18/2023  & Tukwila, WA    \\\\\n\t Metagross  & Optimus P.   & Steel/Psychic   & No & No  & No  & Yes - Sierra & Yes - Sierra                      & No & 1.01 & 239.49 & 3 & 2/18/2023  & SeaTac, WA     \\\\\n\t Exploud    & Maxell       & Normal          & No & No  & Yes & No           & Yes - Primal Rumblings            & No & 1.40 &  92.46 & 3 & 2/24/2023  & Kent, WA       \\\\\n\t Blaziken   & The Colonel  & Fire/Fighting   & No & No  & Yes & No           & Yes - Primal Rumblings            & No & 1.69 &  39.61 & 3 & 2/24/2023  & Auburn, WA     \\\\\n\t Sableye    & Jasper       & Dark/Ghost      & No & No  & Yes & No           & Yes - Hoenn Tour 2022             & No & 0.47 &   8.83 & 3 & 2/25/2023  & Seattle, WA    \\\\\n\t Sudowoodo  & Roxanne      & Rock            & No & No  & Yes & No           & No                                & No & 0.95 &  10.86 & 2 & 3/4/2023   & Auburn, WA     \\\\\n\t Hitmontop  & TopOfDaWorld & Fighting        & No & No  & No  & Yes          & Yes - 100th Perfect               & No & 1.23 &  24.41 & 2 & 3/5/2023   & Kent, WA       \\\\\n\\end{tabular}\n"
          },
          "metadata": {}
        }
      ]
    },
    {
      "cell_type": "code",
      "source": [
        "# Any null data?\n",
        "sum(is.na(PerfectPokemon))\n",
        "# No Nulls!"
      ],
      "metadata": {
        "colab": {
          "base_uri": "https://localhost:8080/",
          "height": 34
        },
        "id": "4s3QfuEWAo-T",
        "outputId": "54d8eaa7-29aa-4ba1-dc53-a775887ba573"
      },
      "execution_count": 4,
      "outputs": [
        {
          "output_type": "display_data",
          "data": {
            "text/html": [
              "0"
            ],
            "text/markdown": "0",
            "text/latex": "0",
            "text/plain": [
              "[1] 0"
            ]
          },
          "metadata": {}
        }
      ]
    },
    {
      "cell_type": "code",
      "source": [
        "# Statistical information\n",
        "\n",
        "# Mean for each numeric column:\n",
        "# For Heights and Weights\n",
        "print(\"Mean values for each numeric column:\")\n",
        "print(\"Mean Height\") # 1.7049\n",
        "mean(PerfectPokemon$Height)\n",
        "print(\"-----------------------------\")"
      ],
      "metadata": {
        "colab": {
          "base_uri": "https://localhost:8080/",
          "height": 86
        },
        "id": "w2t_WFCqAsIN",
        "outputId": "83580652-284c-4dc2-fdfc-ae46a8b5c917"
      },
      "execution_count": 5,
      "outputs": [
        {
          "output_type": "stream",
          "name": "stdout",
          "text": [
            "[1] \"Mean values for each numeric column:\"\n",
            "[1] \"Mean Height\"\n"
          ]
        },
        {
          "output_type": "display_data",
          "data": {
            "text/html": [
              "1.7049"
            ],
            "text/markdown": "1.7049",
            "text/latex": "1.7049",
            "text/plain": [
              "[1] 1.7049"
            ]
          },
          "metadata": {}
        },
        {
          "output_type": "stream",
          "name": "stdout",
          "text": [
            "[1] \"-----------------------------\"\n"
          ]
        }
      ]
    },
    {
      "cell_type": "code",
      "source": [
        "# Mean Weight\n",
        "print(\"Mean Height\") # 93.7856\n",
        "mean(PerfectPokemon$Weight)"
      ],
      "metadata": {
        "colab": {
          "base_uri": "https://localhost:8080/",
          "height": 52
        },
        "id": "acA8ki-bGD9L",
        "outputId": "0d611bd1-d8f2-4cf2-8212-1ac7a618336d"
      },
      "execution_count": 17,
      "outputs": [
        {
          "output_type": "stream",
          "name": "stdout",
          "text": [
            "[1] \"Mean Height\"\n"
          ]
        },
        {
          "output_type": "display_data",
          "data": {
            "text/html": [
              "93.7856"
            ],
            "text/markdown": "93.7856",
            "text/latex": "93.7856",
            "text/plain": [
              "[1] 93.7856"
            ]
          },
          "metadata": {}
        }
      ]
    },
    {
      "cell_type": "code",
      "source": [
        "# Median Height:\n",
        "print(\"Median value for the Height column:\") # 1.375\n",
        "median(PerfectPokemon$Height)\n",
        "print(\"-------------------------------\")"
      ],
      "metadata": {
        "colab": {
          "base_uri": "https://localhost:8080/",
          "height": 52
        },
        "id": "ph2mBzdJAsz-",
        "outputId": "cffdafd8-635f-412d-e4ff-3ecc75506323"
      },
      "execution_count": 18,
      "outputs": [
        {
          "output_type": "stream",
          "name": "stdout",
          "text": [
            "[1] \"Median value for the Height column:\"\n"
          ]
        },
        {
          "output_type": "display_data",
          "data": {
            "text/html": [
              "1.375"
            ],
            "text/markdown": "1.375",
            "text/latex": "1.375",
            "text/plain": [
              "[1] 1.375"
            ]
          },
          "metadata": {}
        }
      ]
    },
    {
      "cell_type": "code",
      "source": [
        "# Median Weight:\n",
        "print(\"Median value for the Weight column:\") # 55.01\n",
        "median(PerfectPokemon$Weight)"
      ],
      "metadata": {
        "colab": {
          "base_uri": "https://localhost:8080/",
          "height": 52
        },
        "id": "qJdsI4uXGl3-",
        "outputId": "276e3ba8-9b92-4b6f-d560-72e80483526c"
      },
      "execution_count": 19,
      "outputs": [
        {
          "output_type": "stream",
          "name": "stdout",
          "text": [
            "[1] \"Median value for the Weight column:\"\n"
          ]
        },
        {
          "output_type": "display_data",
          "data": {
            "text/html": [
              "55.01"
            ],
            "text/markdown": "55.01",
            "text/latex": "55.01",
            "text/plain": [
              "[1] 55.01"
            ]
          },
          "metadata": {}
        }
      ]
    },
    {
      "cell_type": "code",
      "source": [
        "# Mode Height:\n",
        "print(\"Most occuring value for the Height column (if applicable):\") # several: 0.89, 1.01, 1.21, 1.3, 1.47, and 1.56 meters\n",
        "Mode(PerfectPokemon$Height)"
      ],
      "metadata": {
        "colab": {
          "base_uri": "https://localhost:8080/",
          "height": 52
        },
        "id": "DYFZfXJ-Axw1",
        "outputId": "c060ff71-2f1e-4f7b-a876-2e44ad7cd0e5"
      },
      "execution_count": 20,
      "outputs": [
        {
          "output_type": "stream",
          "name": "stdout",
          "text": [
            "[1] \"Most occuring value for the Height column (if applicable):\"\n"
          ]
        },
        {
          "output_type": "display_data",
          "data": {
            "text/html": [
              "<style>\n",
              ".list-inline {list-style: none; margin:0; padding: 0}\n",
              ".list-inline>li {display: inline-block}\n",
              ".list-inline>li:not(:last-child)::after {content: \"\\00b7\"; padding: 0 .5ex}\n",
              "</style>\n",
              "<ol class=list-inline><li>0.89</li><li>1.01</li><li>1.21</li><li>1.3</li><li>1.47</li><li>1.56</li></ol>\n"
            ],
            "text/markdown": "1. 0.89\n2. 1.01\n3. 1.21\n4. 1.3\n5. 1.47\n6. 1.56\n\n\n",
            "text/latex": "\\begin{enumerate*}\n\\item 0.89\n\\item 1.01\n\\item 1.21\n\\item 1.3\n\\item 1.47\n\\item 1.56\n\\end{enumerate*}\n",
            "text/plain": [
              "[1] 0.89 1.01 1.21 1.30 1.47 1.56\n",
              "attr(,\"freq\")\n",
              "[1] 3"
            ]
          },
          "metadata": {}
        }
      ]
    },
    {
      "cell_type": "code",
      "source": [
        "# Mode Weight:\n",
        "print(\"Most occuring value for the Weight column (if applicable):\") # None\n",
        "Mode(PerfectPokemon$Weight)"
      ],
      "metadata": {
        "colab": {
          "base_uri": "https://localhost:8080/",
          "height": 52
        },
        "id": "UNyJdZOKAzZ2",
        "outputId": "68954cac-ebe2-49fa-fa3b-f1a4eadf53d7"
      },
      "execution_count": 8,
      "outputs": [
        {
          "output_type": "stream",
          "name": "stdout",
          "text": [
            "[1] \"Most occuring value for the Weight column (if applicable):\"\n"
          ]
        },
        {
          "output_type": "display_data",
          "data": {
            "text/html": [
              "&lt;NA&gt;"
            ],
            "text/markdown": "&lt;NA&gt;",
            "text/latex": "<NA>",
            "text/plain": [
              "[1] NA\n",
              "attr(,\"freq\")\n",
              "[1] NA"
            ]
          },
          "metadata": {}
        }
      ]
    },
    {
      "cell_type": "code",
      "source": [
        "# Standard Deviation Height:\n",
        "print(\"Standard Deviation of the Height column:\") # 1.988 meters\n",
        "SD(PerfectPokemon$Height)"
      ],
      "metadata": {
        "colab": {
          "base_uri": "https://localhost:8080/",
          "height": 52
        },
        "id": "GlBsTyFbA1HH",
        "outputId": "bacf2baa-0962-4cd8-ab11-75db842ba1b6"
      },
      "execution_count": 9,
      "outputs": [
        {
          "output_type": "stream",
          "name": "stdout",
          "text": [
            "[1] \"Standard Deviation of the Height column:\"\n"
          ]
        },
        {
          "output_type": "display_data",
          "data": {
            "text/html": [
              "1.98817539569335"
            ],
            "text/markdown": "1.98817539569335",
            "text/latex": "1.98817539569335",
            "text/plain": [
              "[1] 1.988175"
            ]
          },
          "metadata": {}
        }
      ]
    },
    {
      "cell_type": "code",
      "source": [
        "# Standard Deviation Weight:\n",
        "print(\"Standard Deviation of the Weight column:\") # 103.85115 kilograms\n",
        "SD(PerfectPokemon$Weight)"
      ],
      "metadata": {
        "colab": {
          "base_uri": "https://localhost:8080/",
          "height": 52
        },
        "id": "skB6GZkaA2cA",
        "outputId": "06cf800a-3f82-4264-83be-e0d9ee01b74a"
      },
      "execution_count": 10,
      "outputs": [
        {
          "output_type": "stream",
          "name": "stdout",
          "text": [
            "[1] \"Standard Deviation of the Weight column:\"\n"
          ]
        },
        {
          "output_type": "display_data",
          "data": {
            "text/html": [
              "103.851455350535"
            ],
            "text/markdown": "103.851455350535",
            "text/latex": "103.851455350535",
            "text/plain": [
              "[1] 103.8515"
            ]
          },
          "metadata": {}
        }
      ]
    },
    {
      "cell_type": "code",
      "source": [
        "# Attempt to create boxplot on Height:\n",
        "boxplot(PerfectPokemon$Height, data = PerfectPokemon,\n",
        "        main = \"Heights of My Perfects\",\n",
        "        xlab = \"Data\",\n",
        "        ylab = \"Height in Meters\")"
      ],
      "metadata": {
        "colab": {
          "base_uri": "https://localhost:8080/",
          "height": 437
        },
        "id": "aF3MQSGFA3jV",
        "outputId": "d7f414f9-a24d-4a61-ed80-619a41f9f777"
      },
      "execution_count": 11,
      "outputs": [
        {
          "output_type": "display_data",
          "data": {
            "text/plain": [
              "Plot with title “Heights of My Perfects”"
            ],
            "image/png": "[encoded data removed]"
          },
          "metadata": {
            "image/png": {
              "width": 420,
              "height": 420
            }
          }
        }
      ]
    },
    {
      "cell_type": "code",
      "source": [
        "boxplot(PerfectPokemon$Weight, data = PerfectPokemon,\n",
        "        main = \"Weights of My Perfects\",\n",
        "        xlab = \"Data\",\n",
        "        ylab = \"Weight in Kilograms\")\n"
      ],
      "metadata": {
        "colab": {
          "base_uri": "https://localhost:8080/",
          "height": 437
        },
        "id": "H9C1CSWnA4-r",
        "outputId": "9fc06028-29b4-4675-9fc2-2774d587036a"
      },
      "execution_count": 12,
      "outputs": [
        {
          "output_type": "display_data",
          "data": {
            "text/plain": [
              "Plot with title “Weights of My Perfects”"
            ],
            "image/png": "[encoded data removed]"
          },
          "metadata": {
            "image/png": {
              "width": 420,
              "height": 420
            }
          }
        }
      ]
    },
    {
      "cell_type": "code",
      "source": [
        "# Constructing the histogram:\n",
        "# By generation\n",
        "hist(PerfectPokemon$Generation, xlab=\"Amount of My Perfect Pokemon By Generation\", col = \"red\", border = \"black\")\n"
      ],
      "metadata": {
        "colab": {
          "base_uri": "https://localhost:8080/",
          "height": 437
        },
        "id": "ckMZ8WgfA6Zi",
        "outputId": "959161c4-6d13-4306-c1c2-0bbba91d75f1"
      },
      "execution_count": 13,
      "outputs": [
        {
          "output_type": "display_data",
          "data": {
            "text/plain": [
              "Plot with title “Histogram of PerfectPokemon$Generation”"
            ],
            "image/png": "[encoded data removed]"
          },
          "metadata": {
            "image/png": {
              "width": 420,
              "height": 420
            }
          }
        }
      ]
    },
    {
      "cell_type": "code",
      "source": [
        "# Counting by Gender\n"
      ],
      "metadata": {
        "colab": {
          "base_uri": "https://localhost:8080/"
        },
        "id": "tpH6KIY-BAKf",
        "outputId": "64eda724-e6c5-44e6-f4a8-8602b4053695"
      },
      "execution_count": 14,
      "outputs": [
        {
          "output_type": "stream",
          "name": "stderr",
          "text": [
            "Installing package into ‘/usr/local/lib/R/site-library’\n",
            "(as ‘lib’ is unspecified)\n",
            "\n",
            "\n",
            "Attaching package: ‘dplyr’\n",
            "\n",
            "\n",
            "The following object is masked from ‘package:party’:\n",
            "\n",
            "    where\n",
            "\n",
            "\n",
            "The following objects are masked from ‘package:stats’:\n",
            "\n",
            "    filter, lag\n",
            "\n",
            "\n",
            "The following objects are masked from ‘package:base’:\n",
            "\n",
            "    intersect, setdiff, setequal, union\n",
            "\n",
            "\n"
          ]
        }
      ]
    },
    {
      "cell_type": "code",
      "source": [
        "# Making the markdown file:\n",
        "file.create(\"MyPerfects_First100.Rmd\")"
      ],
      "metadata": {
        "colab": {
          "base_uri": "https://localhost:8080/",
          "height": 34
        },
        "id": "oWm0bIWUBBNu",
        "outputId": "ece4a31e-3ada-47dd-c7de-e28ecb0cca5c"
      },
      "execution_count": 16,
      "outputs": [
        {
          "output_type": "display_data",
          "data": {
            "text/html": [
              "TRUE"
            ],
            "text/markdown": "TRUE",
            "text/latex": "TRUE",
            "text/plain": [
              "[1] TRUE"
            ]
          },
          "metadata": {}
        }
      ]
    }
  ]
}